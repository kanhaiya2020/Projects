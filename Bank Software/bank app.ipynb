{
 "cells": [
  {
   "cell_type": "code",
   "execution_count": null,
   "metadata": {},
   "outputs": [],
   "source": [
    "from random import randint\n",
    "ac_no = randint(1000,13400)\n",
    "s = ac_no"
   ]
  },
  {
   "cell_type": "code",
   "execution_count": null,
   "metadata": {},
   "outputs": [],
   "source": [
    "acq = int(input(\"Enter Number 4 for Admin Panel \"))\n",
    "if acq == 4:\n",
    "    pswd = int(input(\"Enter the password\"))\n",
    "    if pswd == 1234:\n",
    "        #info=d.get(acc,\"Invalid Account Number\")\n",
    "        for var1,var2 in d.items():\n",
    "            print('\\n', var1,'-->\\n')\n",
    "            for var3,var4 in var2.items():\n",
    "                print(var3, ' : ',var4)\n",
    "    else:\n",
    "        print(\"Sorry Sir, Wrong Input\")"
   ]
  },
  {
   "cell_type": "code",
   "execution_count": 14,
   "metadata": {},
   "outputs": [
    {
     "name": "stdout",
     "output_type": "stream",
     "text": [
      "Do You Want To Add Account:yes\n",
      "Name Mobile_no Aaddhar_No Moneykanha 1234 12343221 5000\n",
      "Do You Want To Add Account:yes\n",
      "Name Mobile_no Aaddhar_No Moneyprateek 2341 212121 10000\n",
      "Do You Want To Add Account:yes\n",
      "Name Mobile_no Aaddhar_No Moneypreyanshu 12321 1212121212 100000\n",
      "Do You Want To Add Account:no\n"
     ]
    }
   ],
   "source": [
    "d={}\n",
    "ch=input(\"Do You Want To Add Account:\").lower()\n",
    "while(ch=='yes'):\n",
    "    name,mob_nu,aadhar,money=input(\"Name Mobile_no Aaddhar_No Money\").split()\n",
    "    s+=1\n",
    "    d[s]={'name':name,'mob_nu':mob_nu,'aadhar':aadhar,'money':money}\n",
    "    ch=input(\"Do You Want To Add Account:\").lower()"
   ]
  },
  {
   "cell_type": "code",
   "execution_count": 15,
   "metadata": {},
   "outputs": [
    {
     "data": {
      "text/plain": [
       "{9780: {'name': 'kanha',\n",
       "  'mob_nu': '1234',\n",
       "  'aadhar': '12343221',\n",
       "  'money': '5000'},\n",
       " 9781: {'name': 'prateek',\n",
       "  'mob_nu': '2341',\n",
       "  'aadhar': '212121',\n",
       "  'money': '10000'},\n",
       " 9782: {'name': 'preyanshu',\n",
       "  'mob_nu': '12321',\n",
       "  'aadhar': '1212121212',\n",
       "  'money': '100000'}}"
      ]
     },
     "execution_count": 15,
     "metadata": {},
     "output_type": "execute_result"
    }
   ],
   "source": [
    "d"
   ]
  },
  {
   "cell_type": "code",
   "execution_count": null,
   "metadata": {},
   "outputs": [],
   "source": [
    "info=d.get(acc,\"Invalid Account Number\")\n",
    "for var1,var2 in info.items():\n",
    "    print(var1,':',var2)"
   ]
  },
  {
   "cell_type": "code",
   "execution_count": null,
   "metadata": {},
   "outputs": [],
   "source": [
    "string=\"\"\"\n",
    "1.Withdrawl\n",
    "2.Deposit\n",
    "3.Account Updation\n",
    "\"\"\"\n",
    "print(string)\n",
    "acq = int(input(\"Enter the withdrawl/deposit(1/2) \"))\n",
    "if acq == 1:\n",
    "    aca = int(input(\"Enter the account nu\"))\n",
    "    if aca in d:\n",
    "        amo = int(input(\"Enter the money \"))\n",
    "        if amo > 0 and int(d[aca]['money'])-amo>0:\n",
    "            d[aca]['money']=str(int(d[aca]['money'])-amo)\n",
    "            print(\"Successful Withdrawl of amount Rs.\",amo)\n",
    "            aa = input(\"you want to show Your account information So Press yes or no \")\n",
    "            if aa == 'yes':\n",
    "                for var1,var2 in d[aca].items():\n",
    "                    print(var1, \":\", var2)\n",
    "            else:\n",
    "                exit()\n",
    "        else:\n",
    "            print(\"Awe Pagal Smja he kya\")\n",
    "    else:\n",
    "        print(\"Invalid Account Number\")\n",
    "elif acq == 2:\n",
    "    aca = int(input(\"Enter the account nu \"))\n",
    "    if aca in d:\n",
    "        amo = int(input(\"Enter the money \"))\n",
    "        d[aca]['money']=str(int(d[aca]['money'])+amo)\n",
    "        print(\"Successful deposit of amount Rs. \",amo)\n",
    "    else:\n",
    "        print(\"Invalid Account Number\")\n",
    "else:\n",
    "    print(\"Wrong Input\")"
   ]
  },
  {
   "cell_type": "code",
   "execution_count": 24,
   "metadata": {},
   "outputs": [
    {
     "data": {
      "text/plain": [
       "{9780: {'name': 'kanha',\n",
       "  'mob_nu': '1234',\n",
       "  'aadhar': '12343221',\n",
       "  'money': '5000'},\n",
       " 9781: {'name': 'prateek',\n",
       "  'mob_nu': '2341',\n",
       "  'aadhar': '212121',\n",
       "  'money': '10000'},\n",
       " 9782: {'name': 'preyanshu',\n",
       "  'mob_nu': '12321',\n",
       "  'aadhar': '1212121212',\n",
       "  'money': '100000'}}"
      ]
     },
     "execution_count": 24,
     "metadata": {},
     "output_type": "execute_result"
    }
   ],
   "source": [
    "d"
   ]
  },
  {
   "cell_type": "code",
   "execution_count": null,
   "metadata": {},
   "outputs": [],
   "source": [
    "acq = int(input(\"Enter Number 3 for Account Updation \"))\n",
    "if acq == 3:\n",
    "    aca = int(input(\"Enter the account nu\"))\n",
    "    if aca in d:\n",
    "        aa = input(\"Do you want to Continue Press Yes or No \").lower()\n",
    "        if aa == 'yes':\n",
    "            ad = input('What do you want to change Aadhar NUmber so press 1 or 2 for Mobile Number ').lower()\n",
    "            if ad == '1':\n",
    "                sl = int(input(\"Enter the New Aadhar Number \"))\n",
    "                d[aca]['aadhar']=str(sl)\n",
    "                print(\"Success\")\n",
    "            elif ad == '2':\n",
    "                sl = int(input(\"Enter the New Mobile Number \"))\n",
    "                d[aca]['mob_nu']=str(sl)\n",
    "                print(\"Success\")\n",
    "            else:\n",
    "                print(\"Wrong Input\")"
   ]
  },
  {
   "cell_type": "code",
   "execution_count": 25,
   "metadata": {},
   "outputs": [
    {
     "name": "stdout",
     "output_type": "stream",
     "text": [
      "Enter Number 5 for Loan Request 5\n",
      "Enter the account Number9780\n",
      "are you student/business/goverment job  business\n",
      "Enter the Loan Amount 125000\n",
      "Enter the Salary 25000\n",
      "You have just got  12500 of Request Loan\n"
     ]
    }
   ],
   "source": [
    "acq = int(input(\"Enter Number 5 for Loan Request \"))\n",
    "if acq == 5:\n",
    "    aca = int(input(\"Enter the account Number\"))\n",
    "    if aca in d:\n",
    "        aa = input(\"are you student/business/goverment job  \").lower()\n",
    "        if aa == 'student':\n",
    "            print(\"Sorry ,You are not able to get loan\")\n",
    "        elif aa == 'business':\n",
    "            loan = int(input('Enter the Loan Amount '))\n",
    "            salary = int(input(\"Enter the Salary \"))\n",
    "            la = (salary*12)\n",
    "            print(\"You have just got \",la, \"of Request Loan for 1 Year\")\n",
    "        elif aa == 'goverment job':\n",
    "            loan = int(input('Enter the Loan Amount '))\n",
    "            salary = int(input(\"Enter the Salary \"))\n",
    "            la = (salary*80)//100\n",
    "            print(\"You have just got \",la, \"of Request Loan\")\n",
    "        else:\n",
    "            print('Wrong Input')"
   ]
  },
  {
   "cell_type": "code",
   "execution_count": null,
   "metadata": {},
   "outputs": [],
   "source": []
  }
 ],
 "metadata": {
  "kernelspec": {
   "display_name": "Python 3",
   "language": "python",
   "name": "python3"
  },
  "language_info": {
   "codemirror_mode": {
    "name": "ipython",
    "version": 3
   },
   "file_extension": ".py",
   "mimetype": "text/x-python",
   "name": "python",
   "nbconvert_exporter": "python",
   "pygments_lexer": "ipython3",
   "version": "3.7.0"
  }
 },
 "nbformat": 4,
 "nbformat_minor": 2
}
